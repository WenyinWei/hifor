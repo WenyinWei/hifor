{
 "cells": [
  {
   "cell_type": "code",
   "execution_count": 1,
   "id": "aef9f7b3",
   "metadata": {},
   "outputs": [],
   "source": [
    "import networkx as nx"
   ]
  },
  {
   "cell_type": "code",
   "execution_count": 2,
   "id": "d667adbf",
   "metadata": {},
   "outputs": [],
   "source": [
    "graph = nx.DiGraph()"
   ]
  },
  {
   "cell_type": "code",
   "execution_count": null,
   "id": "1f4e106d",
   "metadata": {},
   "outputs": [],
   "source": []
  },
  {
   "cell_type": "code",
   "execution_count": null,
   "id": "46d8367c",
   "metadata": {},
   "outputs": [],
   "source": []
  },
  {
   "cell_type": "code",
   "execution_count": 3,
   "id": "907acf1c",
   "metadata": {},
   "outputs": [],
   "source": [
    "from sympy import symbols, Symbol, pi\n",
    "from sympy import Eq\n",
    "v_perp_s, v_para_s = Symbol(\"v_{\\perp, s}\"), Symbol(\"v_{\\parallel, s}\")\n",
    "v_perp_e, v_para_e = Symbol(\"v_{\\perp, e}\"), Symbol(\"v_{\\parallel, e}\")\n",
    "v_perp_p, v_para_p = Symbol(\"v_{\\perp, p}\"), Symbol(\"v_{\\parallel, p}\")\n",
    "v_perp_D, v_para_D = Symbol(\"v_{\\perp, D}\"), Symbol(\"v_{\\parallel, D}\")\n",
    "v_perp_T, v_para_T = Symbol(\"v_{\\perp, T}\"), Symbol(\"v_{\\parallel, T}\")\n",
    "m_s, Z_s = symbols(\"m_{s}, Z_{s}\")\n",
    "m_s1, Z_s1 = symbols(\"m_{s1}, Z_{s1}\")\n",
    "m_s2, Z_s2 = symbols(\"m_{s2}, Z_{s2}\")\n",
    "r_s1_s2 = Symbol(\"r_{s1,s2}\")\n",
    "m_e, Z_e = symbols(\"m_{e}, Z_{e}\")\n",
    "m_p, Z_p = symbols(\"m_{p}, Z_{p}\")\n",
    "m_D, Z_D = symbols(\"m_{D}, Z_{D}\")\n",
    "m_T, Z_T = symbols(\"m_{T}, Z_{T}\")\n",
    "F_Coulomb, B_ext = symbols(\"F_{Coulomb}, B_{ext}\")\n",
    "e = Symbol(\"e\")\n",
    "vacuum_epsilon, vacuum_mu = symbols(\"\\\\varepsilon_{0}, \\mu_{0}\")"
   ]
  },
  {
   "cell_type": "code",
   "execution_count": 4,
   "id": "c14de0f7",
   "metadata": {},
   "outputs": [],
   "source": [
    "import matplotlib.pyplot as plt\n",
    "plt.rcParams['text.usetex'] = True\n",
    "%matplotlib inline"
   ]
  },
  {
   "cell_type": "code",
   "execution_count": 5,
   "id": "c0d4c5cf",
   "metadata": {},
   "outputs": [],
   "source": [
    "Z_sum = Symbol(\"Z_{sum}\")"
   ]
  },
  {
   "cell_type": "code",
   "execution_count": null,
   "id": "11996441",
   "metadata": {},
   "outputs": [],
   "source": []
  },
  {
   "cell_type": "code",
   "execution_count": 6,
   "id": "f95560bb",
   "metadata": {},
   "outputs": [],
   "source": [
    "from hifor.graphtool import add_nodes_and_edges_from_Eq\n",
    "add_nodes_and_edges_from_Eq(\n",
    "    graph, \n",
    "    Eq(F_Coulomb, 1/(4*pi*vacuum_epsilon) * (Z_s1 * Z_s2 * e**2 ) / r_s1_s2**2 )) "
   ]
  },
  {
   "cell_type": "code",
   "execution_count": 7,
   "id": "7a2dd149",
   "metadata": {},
   "outputs": [],
   "source": [
    "add_nodes_and_edges_from_Eq(\n",
    "    graph, \n",
    "    Eq(Z_sum, Z_s1+Z_s2)) "
   ]
  },
  {
   "cell_type": "code",
   "execution_count": 8,
   "id": "17725558",
   "metadata": {},
   "outputs": [
    {
     "data": {
      "text/plain": [
       "True"
      ]
     },
     "execution_count": 8,
     "metadata": {},
     "output_type": "execute_result"
    }
   ],
   "source": [
    "nx.is_directed_acyclic_graph(graph)"
   ]
  },
  {
   "cell_type": "code",
   "execution_count": 9,
   "id": "9cd5e124",
   "metadata": {},
   "outputs": [],
   "source": [
    "from hifor.height import find_heights_of_all_nodes     \n",
    "find_heights_of_all_nodes(graph)"
   ]
  },
  {
   "cell_type": "code",
   "execution_count": 10,
   "id": "69c047ab",
   "metadata": {},
   "outputs": [
    {
     "data": {
      "text/plain": [
       "{'height': 0}"
      ]
     },
     "execution_count": 10,
     "metadata": {},
     "output_type": "execute_result"
    }
   ],
   "source": [
    "graph.nodes[Z_s1]"
   ]
  },
  {
   "cell_type": "code",
   "execution_count": 46,
   "id": "eaa317c6",
   "metadata": {},
   "outputs": [],
   "source": [
    "from decimal import Decimal, getcontext\n",
    "from scipy import constants\n",
    "graph.graph[\"decimal_context\"] = getcontext()\n",
    "graph.nodes[e][\"val\"] = Decimal( constants.value(u'elementary charge'), graph.graph[\"decimal_context\"])\n",
    "# graph.nodes[B][\"val\"] = Decimal( constants.value(u'elementary charge'), graph.graph[\"decimal_context\"])"
   ]
  },
  {
   "cell_type": "code",
   "execution_count": null,
   "id": "8396e54b",
   "metadata": {},
   "outputs": [],
   "source": []
  },
  {
   "cell_type": "code",
   "execution_count": null,
   "id": "b15c1def",
   "metadata": {},
   "outputs": [],
   "source": []
  },
  {
   "cell_type": "code",
   "execution_count": 11,
   "id": "8da7cccd",
   "metadata": {
    "scrolled": false
   },
   "outputs": [
    {
     "data": {
      "image/png": "[encoded data removed]",
      "text/plain": [
       "<Figure size 720x900 with 1 Axes>"
      ]
     },
     "metadata": {
      "needs_background": "light"
     },
     "output_type": "display_data"
    }
   ],
   "source": [
    "from hifor.draw import draw_formula_hierarchy\n",
    "\n",
    "yxratio = 15.0/12\n",
    "figsize_datalim_ratio = 2.0\n",
    "data_xmax = 5\n",
    "xlim = [0, data_xmax]\n",
    "ylim = [0, data_xmax*yxratio]\n",
    "\n",
    "fig, ax = plt.subplots(1,1, figsize=(\n",
    "    data_xmax * figsize_datalim_ratio, \n",
    "    data_xmax * yxratio * figsize_datalim_ratio) )\n",
    "ax.set_axis_off()\n",
    "ax.set_xlim([0, data_xmax]); ax.set_ylim([0, data_xmax * yxratio])\n",
    "\n",
    "\n",
    "draw_formula_hierarchy(graph, fig, ax)\n",
    "fig.savefig(\"test.png\", dpi=600, bbox_inches=0) # bbox_inches=0 from Hooked, StackOverflow, https://stackoverflow.com/a/9295472/12486177"
   ]
  },
  {
   "cell_type": "code",
   "execution_count": 35,
   "id": "e0b4f223",
   "metadata": {},
   "outputs": [
    {
     "data": {
      "text/plain": [
       "1.67262192369e-27"
      ]
     },
     "execution_count": 35,
     "metadata": {},
     "output_type": "execute_result"
    }
   ],
   "source": [
    "# In Python, float data type is of range 2.22507e-308 to 1.79769e+308 and 64 bits, equivalent to double in other languages.\n",
    "from scipy import constants\n",
    "constants.value(u'proton mass')"
   ]
  },
  {
   "cell_type": "code",
   "execution_count": null,
   "id": "76ce99dc",
   "metadata": {},
   "outputs": [],
   "source": []
  }
 ],
 "metadata": {
  "kernelspec": {
   "display_name": "Python 3 (ipykernel)",
   "language": "python",
   "name": "python3"
  },
  "language_info": {
   "codemirror_mode": {
    "name": "ipython",
    "version": 3
   },
   "file_extension": ".py",
   "mimetype": "text/x-python",
   "name": "python",
   "nbconvert_exporter": "python",
   "pygments_lexer": "ipython3",
   "version": "3.8.10"
  }
 },
 "nbformat": 4,
 "nbformat_minor": 5
}
